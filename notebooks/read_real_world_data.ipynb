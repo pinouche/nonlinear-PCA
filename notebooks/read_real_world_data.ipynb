{
 "cells": [
  {
   "cell_type": "code",
   "execution_count": 1,
   "id": "d5741067-39ef-4311-a4ca-6a3a1ac86f84",
   "metadata": {},
   "outputs": [],
   "source": [
    "import pickle\n",
    "import numpy as np\n",
    "import matplotlib.pyplot as plt\n",
    "import os"
   ]
  },
  {
   "cell_type": "markdown",
   "id": "4dcbba6e-0b51-4783-8764-fd5bc19dfb2b",
   "metadata": {},
   "source": [
    "# load results"
   ]
  },
  {
   "cell_type": "code",
   "execution_count": 6,
   "id": "c3299088-7b44-4250-9db7-00d2317df289",
   "metadata": {},
   "outputs": [],
   "source": [
    "def load_data(dataset: str) -> dict:\n",
    "    \"\"\"\n",
    "    Load data from pickle files for a specific dataset.\n",
    "    \n",
    "    Args:\n",
    "        dataset (str): Name of the dataset or specific subdirectory\n",
    "    \n",
    "    Returns:\n",
    "        dict: A dictionary with full file paths as keys and loaded data as values\n",
    "    \"\"\"\n",
    "    base_dir = \"../results/datasets/real_world_data\"\n",
    "    full_path = os.path.join(base_dir, dataset)\n",
    "    \n",
    "    data_dict = {}\n",
    "    \n",
    "    # Walk through the directory tree starting from the specified dataset path\n",
    "    for root, dirs, files in os.walk(full_path):\n",
    "        for file in files:\n",
    "            # Check if the file is a pickle file\n",
    "            if file.endswith('.pkl') or file.endswith('.p'):\n",
    "                full_file_path = os.path.join(root, file)\n",
    "                print(full_file_path)\n",
    "                \n",
    "                try:\n",
    "                    # Load the pickle file\n",
    "                    with open(full_file_path, \"rb\") as f:\n",
    "                        data = pickle.load(f)\n",
    "                    \n",
    "                    # Store in the dictionary with full path as key\n",
    "                    data_dict[full_file_path] = data\n",
    "                \n",
    "                except (IOError, pickle.UnpicklingError) as e:\n",
    "                    print(f\"Error loading {full_file_path}: {e}\")\n",
    "    \n",
    "    return data_dict"
   ]
  },
  {
   "cell_type": "code",
   "execution_count": 7,
   "id": "fa6324d3-4b46-4304-91ce-3015da65f457",
   "metadata": {},
   "outputs": [
    {
     "name": "stdout",
     "output_type": "stream",
     "text": [
      "../results/datasets/real_world_data/wine/activation=relu/partial_contrib=True/0.p\n",
      "../results/datasets/real_world_data/wine/activation=relu/partial_contrib=True/16.p\n",
      "../results/datasets/real_world_data/wine/activation=relu/partial_contrib=True/18.p\n",
      "../results/datasets/real_world_data/wine/activation=relu/partial_contrib=True/9.p\n",
      "../results/datasets/real_world_data/wine/activation=relu/partial_contrib=True/22.p\n",
      "../results/datasets/real_world_data/wine/activation=relu/partial_contrib=True/11.p\n",
      "../results/datasets/real_world_data/wine/activation=relu/partial_contrib=True/17.p\n",
      "../results/datasets/real_world_data/wine/activation=relu/partial_contrib=True/12.p\n",
      "../results/datasets/real_world_data/wine/activation=relu/partial_contrib=True/28.p\n",
      "../results/datasets/real_world_data/wine/activation=relu/partial_contrib=True/2.p\n",
      "../results/datasets/real_world_data/wine/activation=relu/partial_contrib=True/14.p\n",
      "../results/datasets/real_world_data/wine/activation=relu/partial_contrib=True/21.p\n",
      "../results/datasets/real_world_data/wine/activation=relu/partial_contrib=True/27.p\n"
     ]
    },
    {
     "name": "stderr",
     "output_type": "stream",
     "text": [
      "/home/thomas/miniconda3/lib/python3.11/site-packages/sklearn/base.py:376: InconsistentVersionWarning: Trying to unpickle estimator PCA from version 1.4.2 when using version 1.4.1.post1. This might lead to breaking code or invalid results. Use at your own risk. For more info please refer to:\n",
      "https://scikit-learn.org/stable/model_persistence.html#security-maintainability-limitations\n",
      "  warnings.warn(\n",
      "/home/thomas/miniconda3/lib/python3.11/site-packages/sklearn/base.py:376: InconsistentVersionWarning: Trying to unpickle estimator StandardScaler from version 1.4.2 when using version 1.4.1.post1. This might lead to breaking code or invalid results. Use at your own risk. For more info please refer to:\n",
      "https://scikit-learn.org/stable/model_persistence.html#security-maintainability-limitations\n",
      "  warnings.warn(\n"
     ]
    },
    {
     "name": "stdout",
     "output_type": "stream",
     "text": [
      "../results/datasets/real_world_data/wine/activation=relu/partial_contrib=True/13.p\n",
      "../results/datasets/real_world_data/wine/activation=relu/partial_contrib=True/24.p\n",
      "../results/datasets/real_world_data/wine/activation=relu/partial_contrib=True/23.p\n",
      "../results/datasets/real_world_data/wine/activation=relu/partial_contrib=True/10.p\n",
      "../results/datasets/real_world_data/wine/activation=relu/partial_contrib=True/25.p\n",
      "../results/datasets/real_world_data/wine/activation=relu/partial_contrib=True/6.p\n",
      "../results/datasets/real_world_data/wine/activation=relu/partial_contrib=True/7.p\n",
      "../results/datasets/real_world_data/wine/activation=relu/partial_contrib=True/29.p\n",
      "../results/datasets/real_world_data/wine/activation=relu/partial_contrib=True/15.p\n",
      "../results/datasets/real_world_data/wine/activation=relu/partial_contrib=True/4.p\n",
      "../results/datasets/real_world_data/wine/activation=relu/partial_contrib=True/8.p\n",
      "../results/datasets/real_world_data/wine/activation=relu/partial_contrib=True/19.p\n",
      "../results/datasets/real_world_data/wine/activation=relu/partial_contrib=True/26.p\n",
      "../results/datasets/real_world_data/wine/activation=relu/partial_contrib=True/5.p\n",
      "../results/datasets/real_world_data/wine/activation=relu/partial_contrib=True/1.p\n",
      "../results/datasets/real_world_data/wine/activation=relu/partial_contrib=True/3.p\n",
      "../results/datasets/real_world_data/wine/activation=relu/partial_contrib=True/20.p\n"
     ]
    }
   ],
   "source": [
    "data_dictionary = load_data(\"wine\")"
   ]
  },
  {
   "cell_type": "code",
   "execution_count": 4,
   "id": "8c7129e4-d931-4b61-99b3-b4f001e8f3e7",
   "metadata": {},
   "outputs": [
    {
     "data": {
      "text/plain": [
       "dict_keys(['../results/datasets/real_world_data/wine/activation=relu/partial_contrib=True/0.p', '../results/datasets/real_world_data/wine/activation=relu/partial_contrib=True/16.p', '../results/datasets/real_world_data/wine/activation=relu/partial_contrib=True/18.p', '../results/datasets/real_world_data/wine/activation=relu/partial_contrib=True/9.p', '../results/datasets/real_world_data/wine/activation=relu/partial_contrib=True/22.p', '../results/datasets/real_world_data/wine/activation=relu/partial_contrib=True/11.p', '../results/datasets/real_world_data/wine/activation=relu/partial_contrib=True/17.p', '../results/datasets/real_world_data/wine/activation=relu/partial_contrib=True/12.p', '../results/datasets/real_world_data/wine/activation=relu/partial_contrib=True/28.p', '../results/datasets/real_world_data/wine/activation=relu/partial_contrib=True/2.p', '../results/datasets/real_world_data/wine/activation=relu/partial_contrib=True/14.p', '../results/datasets/real_world_data/wine/activation=relu/partial_contrib=True/21.p', '../results/datasets/real_world_data/wine/activation=relu/partial_contrib=True/27.p', '../results/datasets/real_world_data/wine/activation=relu/partial_contrib=True/13.p', '../results/datasets/real_world_data/wine/activation=relu/partial_contrib=True/24.p', '../results/datasets/real_world_data/wine/activation=relu/partial_contrib=True/23.p', '../results/datasets/real_world_data/wine/activation=relu/partial_contrib=True/10.p', '../results/datasets/real_world_data/wine/activation=relu/partial_contrib=True/25.p', '../results/datasets/real_world_data/wine/activation=relu/partial_contrib=True/6.p', '../results/datasets/real_world_data/wine/activation=relu/partial_contrib=True/7.p', '../results/datasets/real_world_data/wine/activation=relu/partial_contrib=True/29.p', '../results/datasets/real_world_data/wine/activation=relu/partial_contrib=True/15.p', '../results/datasets/real_world_data/wine/activation=relu/partial_contrib=True/4.p', '../results/datasets/real_world_data/wine/activation=relu/partial_contrib=True/8.p', '../results/datasets/real_world_data/wine/activation=relu/partial_contrib=True/19.p', '../results/datasets/real_world_data/wine/activation=relu/partial_contrib=True/26.p', '../results/datasets/real_world_data/wine/activation=relu/partial_contrib=True/5.p', '../results/datasets/real_world_data/wine/activation=relu/partial_contrib=True/1.p', '../results/datasets/real_world_data/wine/activation=relu/partial_contrib=True/3.p', '../results/datasets/real_world_data/wine/activation=relu/partial_contrib=True/20.p'])"
      ]
     },
     "execution_count": 4,
     "metadata": {},
     "output_type": "execute_result"
    }
   ],
   "source": [
    "data_dictionary.keys()"
   ]
  },
  {
   "cell_type": "code",
   "execution_count": null,
   "id": "f443a639-2c1c-4768-8f43-2fe5a5eeac79",
   "metadata": {},
   "outputs": [],
   "source": []
  },
  {
   "cell_type": "code",
   "execution_count": null,
   "id": "75cad18d-81c7-4e4d-aa8f-16a056bb1a1c",
   "metadata": {},
   "outputs": [],
   "source": []
  },
  {
   "cell_type": "code",
   "execution_count": null,
   "id": "61a0a6c2-d5a6-4cd2-a482-e5d22834be86",
   "metadata": {},
   "outputs": [],
   "source": []
  },
  {
   "cell_type": "code",
   "execution_count": null,
   "id": "9e5a00dc-0d2f-4e13-8164-dc19759cff9c",
   "metadata": {},
   "outputs": [],
   "source": []
  },
  {
   "cell_type": "code",
   "execution_count": null,
   "id": "92018d14-0408-4412-83d7-31565f34a53e",
   "metadata": {},
   "outputs": [],
   "source": []
  },
  {
   "cell_type": "code",
   "execution_count": null,
   "id": "d5ab7fa1-a5c3-4fe5-83e5-4d640f5b7b64",
   "metadata": {},
   "outputs": [],
   "source": []
  },
  {
   "cell_type": "code",
   "execution_count": null,
   "id": "fb9d7879-7a45-4341-a6a1-96097c0f081e",
   "metadata": {},
   "outputs": [],
   "source": []
  },
  {
   "cell_type": "code",
   "execution_count": null,
   "id": "9241fb2a-84de-48b0-a61b-375a76c79338",
   "metadata": {},
   "outputs": [],
   "source": []
  },
  {
   "cell_type": "code",
   "execution_count": null,
   "id": "b8a4486c-8ef2-46e2-b4ba-ac2653d97d5f",
   "metadata": {},
   "outputs": [],
   "source": []
  },
  {
   "cell_type": "code",
   "execution_count": null,
   "id": "bc4ce457-2859-4871-8af0-f442c019da5c",
   "metadata": {},
   "outputs": [],
   "source": []
  },
  {
   "cell_type": "code",
   "execution_count": null,
   "id": "72c51ee9-e366-4962-abbd-f38a3fb0f0b3",
   "metadata": {},
   "outputs": [],
   "source": []
  },
  {
   "cell_type": "code",
   "execution_count": null,
   "id": "273943fe-06b5-42cc-96ad-cd029525fa27",
   "metadata": {},
   "outputs": [],
   "source": []
  }
 ],
 "metadata": {
  "kernelspec": {
   "display_name": "Python 3 (ipykernel)",
   "language": "python",
   "name": "python3"
  },
  "language_info": {
   "codemirror_mode": {
    "name": "ipython",
    "version": 3
   },
   "file_extension": ".py",
   "mimetype": "text/x-python",
   "name": "python",
   "nbconvert_exporter": "python",
   "pygments_lexer": "ipython3",
   "version": "3.11.7"
  }
 },
 "nbformat": 4,
 "nbformat_minor": 5
}
